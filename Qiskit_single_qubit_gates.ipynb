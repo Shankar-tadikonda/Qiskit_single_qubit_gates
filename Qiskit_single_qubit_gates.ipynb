{
 "cells": [
  {
   "cell_type": "code",
   "execution_count": 1,
   "id": "5547238f-f2b6-4e68-b0c6-6fdeb883c4c3",
   "metadata": {},
   "outputs": [
    {
     "name": "stdout",
     "output_type": "stream",
     "text": [
      "Defaulting to user installation because normal site-packages is not writeable\n",
      "Requirement already satisfied: qiskit in c:\\users\\hp\\appdata\\roaming\\python\\python312\\site-packages (2.2.1)\n",
      "Requirement already satisfied: qiskit-aer in c:\\users\\hp\\appdata\\roaming\\python\\python312\\site-packages (0.17.2)\n",
      "Requirement already satisfied: rustworkx>=0.15.0 in c:\\users\\hp\\appdata\\roaming\\python\\python312\\site-packages (from qiskit) (0.17.1)\n",
      "Requirement already satisfied: numpy<3,>=1.17 in c:\\users\\hp\\appdata\\roaming\\python\\python312\\site-packages (from qiskit) (2.1.3)\n",
      "Requirement already satisfied: scipy>=1.5 in c:\\users\\hp\\appdata\\roaming\\python\\python312\\site-packages (from qiskit) (1.15.1)\n",
      "Requirement already satisfied: dill>=0.3 in c:\\users\\hp\\appdata\\roaming\\python\\python312\\site-packages (from qiskit) (0.4.0)\n",
      "Requirement already satisfied: stevedore>=3.0.0 in c:\\users\\hp\\appdata\\roaming\\python\\python312\\site-packages (from qiskit) (5.5.0)\n",
      "Requirement already satisfied: typing-extensions in c:\\users\\hp\\appdata\\roaming\\python\\python312\\site-packages (from qiskit) (4.12.2)\n",
      "Requirement already satisfied: psutil>=5 in c:\\users\\hp\\appdata\\roaming\\python\\python312\\site-packages (from qiskit-aer) (6.1.1)\n",
      "Requirement already satisfied: python-dateutil>=2.8.0 in c:\\users\\hp\\appdata\\roaming\\python\\python312\\site-packages (from qiskit-aer) (2.9.0.post0)\n",
      "Requirement already satisfied: six>=1.5 in c:\\users\\hp\\appdata\\roaming\\python\\python312\\site-packages (from python-dateutil>=2.8.0->qiskit-aer) (1.17.0)\n"
     ]
    }
   ],
   "source": [
    "!pip install qiskit qiskit-aer"
   ]
  },
  {
   "cell_type": "code",
   "execution_count": 2,
   "id": "f07bc2f6-1e3a-453e-8347-1b87121464d3",
   "metadata": {},
   "outputs": [
    {
     "name": "stdout",
     "output_type": "stream",
     "text": [
      "Counts H then X: {'1': 1025, '0': 1023}\n",
      "Counts X then H: {'1': 1045, '0': 1003}\n",
      "Statevector H then X: Statevector([0.70710678+0.j, 0.70710678+0.j],\n",
      "            dims=(2,))\n",
      "Statevector X then H: Statevector([ 0.70710678+0.j, -0.70710678+0.j],\n",
      "            dims=(2,))\n"
     ]
    }
   ],
   "source": [
    "\n",
    "from qiskit import QuantumCircuit, transpile\n",
    "from qiskit_aer import AerSimulator\n",
    "from qiskit.quantum_info import Statevector\n",
    "import numpy as np\n",
    "\n",
    "sim = AerSimulator()\n",
    "\n",
    "qc_h_then_x = QuantumCircuit(1,1)\n",
    "qc_h_then_x.h(0)\n",
    "qc_h_then_x.x(0)\n",
    "qc_h_then_x.measure(0,0)\n",
    "\n",
    "qc_x_then_h = QuantumCircuit(1,1)\n",
    "qc_x_then_h.x(0)\n",
    "qc_x_then_h.h(0)\n",
    "qc_x_then_h.measure(0,0)\n",
    "\n",
    "def get_counts(qc, shots=2048):\n",
    "    qc_t = transpile(qc, sim)\n",
    "    job = sim.run(qc_t, shots=shots)\n",
    "    result = job.result()\n",
    "    return result.get_counts()\n",
    "\n",
    "print(\"Counts H then X:\", get_counts(qc_h_then_x))\n",
    "print(\"Counts X then H:\", get_counts(qc_x_then_h))\n",
    "\n",
    "qc_sv_h_then_x = QuantumCircuit(1)\n",
    "qc_sv_h_then_x.h(0)\n",
    "qc_sv_h_then_x.x(0)\n",
    "sv_h_then_x = Statevector.from_instruction(qc_sv_h_then_x)\n",
    "\n",
    "qc_sv_x_then_h = QuantumCircuit(1)\n",
    "qc_sv_x_then_h.x(0)\n",
    "qc_sv_x_then_h.h(0)\n",
    "sv_x_then_h = Statevector.from_instruction(qc_sv_x_then_h)\n",
    "\n",
    "print(\"Statevector H then X:\", sv_h_then_x)\n",
    "print(\"Statevector X then H:\", sv_x_then_h)"
   ]
  },
  {
   "cell_type": "code",
   "execution_count": 3,
   "id": "6b00978f-5d27-4b25-96e6-9e78e5fb0b3b",
   "metadata": {},
   "outputs": [
    {
     "name": "stdout",
     "output_type": "stream",
     "text": [
      "theta = 0.785398  counts = {'0': 1004, '1': 1044}\n",
      "theta = 1.570796  counts = {'1': 1007, '0': 1041}\n",
      "theta = 3.141593  counts = {'1': 1018, '0': 1030}\n"
     ]
    }
   ],
   "source": [
    "from qiskit import QuantumCircuit, transpile\n",
    "from qiskit_aer import AerSimulator\n",
    "import numpy as np\n",
    "\n",
    "sim = AerSimulator()\n",
    "\n",
    "thetas = [np.pi/4, np.pi/2, np.pi]\n",
    "for theta in thetas:\n",
    "    qc = QuantumCircuit(1,1)\n",
    "    qc.h(0)\n",
    "    qc.rz(theta, 0)\n",
    "    qc.measure(0,0)\n",
    "    counts = sim.run(transpile(qc, sim), shots=2048).result().get_counts()\n",
    "    print(f\"theta = {theta:.6f}  counts = {counts}\")\n"
   ]
  },
  {
   "cell_type": "code",
   "execution_count": 4,
   "id": "5198b5ae-d357-4210-8fa5-b8271e068860",
   "metadata": {},
   "outputs": [
    {
     "name": "stdout",
     "output_type": "stream",
     "text": [
      "H then RZ: {'1': 1018, '0': 1030}\n",
      "RZ only: {'0': 2048}\n"
     ]
    }
   ],
   "source": [
    "from qiskit import QuantumCircuit, transpile\n",
    "from qiskit_aer import AerSimulator\n",
    "import numpy as np\n",
    "\n",
    "sim = AerSimulator()\n",
    "theta = np.pi/2\n",
    "\n",
    "qc_with_h = QuantumCircuit(1,1)\n",
    "qc_with_h.h(0)\n",
    "qc_with_h.rz(theta, 0)\n",
    "qc_with_h.measure(0,0)\n",
    "\n",
    "qc_no_h = QuantumCircuit(1,1)\n",
    "qc_no_h.rz(theta, 0)\n",
    "qc_no_h.measure(0,0)\n",
    "\n",
    "counts_with_h = sim.run(transpile(qc_with_h, sim), shots=2048).result().get_counts()\n",
    "counts_no_h = sim.run(transpile(qc_no_h, sim), shots=2048).result().get_counts()\n",
    "\n",
    "print(\"H then RZ:\", counts_with_h)\n",
    "print(\"RZ only:\", counts_no_h)\n"
   ]
  },
  {
   "cell_type": "code",
   "execution_count": null,
   "id": "3aa9ad99-89fd-4750-a916-6eaf96c0a2b0",
   "metadata": {},
   "outputs": [],
   "source": []
  }
 ],
 "metadata": {
  "kernelspec": {
   "display_name": "Python 3 (ipykernel)",
   "language": "python",
   "name": "python3"
  },
  "language_info": {
   "codemirror_mode": {
    "name": "ipython",
    "version": 3
   },
   "file_extension": ".py",
   "mimetype": "text/x-python",
   "name": "python",
   "nbconvert_exporter": "python",
   "pygments_lexer": "ipython3",
   "version": "3.12.6"
  }
 },
 "nbformat": 4,
 "nbformat_minor": 5
}
